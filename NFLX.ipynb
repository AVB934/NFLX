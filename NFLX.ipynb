{
 "cells": [
  {
   "cell_type": "code",
   "execution_count": 34,
   "metadata": {},
   "outputs": [],
   "source": [
    "import numpy as np\n",
    "import pandas as pd\n",
    "import torch\n",
    "from torch import nn\n",
    "from sklearn.model_selection import train_test_split\n",
    "from sklearn.preprocessing import MinMaxScaler\n",
    "from sklearn.metrics import mean_squared_error, mean_absolute_error, r2_score\n",
    "import matplotlib.pyplot as plt\n",
    "import yfinance as yf\n",
    "from datetime import datetime"
   ]
  },
  {
   "cell_type": "code",
   "execution_count": 35,
   "metadata": {},
   "outputs": [
    {
     "name": "stderr",
     "output_type": "stream",
     "text": [
      "[*********************100%%**********************]  1 of 1 completed\n"
     ]
    }
   ],
   "source": [
    "\n",
    "\n",
    "# Get today's date dynamically\n",
    "today = datetime.today().strftime('%Y-%m-%d')\n",
    "\n",
    "# Fetch data from Yahoo Finance with dynamic end date\n",
    "ticker = \"NFLX\"\n",
    "data = yf.download(ticker, start=\"2002-01-01\", end=today)"
   ]
  },
  {
   "cell_type": "code",
   "execution_count": 36,
   "metadata": {},
   "outputs": [],
   "source": [
    "\n",
    "# Select relevant features for training\n",
    "data = data[['Open', 'High', 'Low', 'Volume', 'Close']]"
   ]
  },
  {
   "cell_type": "code",
   "execution_count": 37,
   "metadata": {},
   "outputs": [],
   "source": [
    "# Initialize MinMaxScaler\n",
    "scaler = MinMaxScaler()\n",
    "\n",
    "# Normalize the entire dataset\n",
    "normalized_data = pd.DataFrame(scaler.fit_transform(data), columns=data.columns)\n",
    "\n",
    "# Define features and target\n",
    "feature_columns = ['Open', 'High', 'Low']\n",
    "target_column = 'Close'"
   ]
  },
  {
   "cell_type": "code",
   "execution_count": 38,
   "metadata": {},
   "outputs": [],
   "source": [
    "# Create feature and target datasets\n",
    "X = normalized_data[feature_columns].values\n",
    "y = normalized_data[target_column].values.reshape(-1, 1)\n",
    "\n",
    "# Split the data into training and testing sets\n",
    "X_train, X_test, y_train, y_test = train_test_split(X, y, test_size=0.2, random_state=42)\n",
    "\n",
    "# Convert NumPy arrays to PyTorch tensors\n",
    "X_train_tensor = torch.tensor(X_train ,dtype=torch.float32)\n",
    "X_test_tensor = torch.tensor(X_test, dtype=torch.float32)\n",
    "Y_train_tensor = torch.tensor(y_train, dtype=torch.float32)\n",
    "Y_test_tensor = torch.tensor(y_test, dtype=torch.float32)\n"
   ]
  },
  {
   "cell_type": "code",
   "execution_count": 39,
   "metadata": {},
   "outputs": [],
   "source": [
    "# Model definition\n",
    "class LinearRegression(nn.Module):\n",
    "    def __init__(self, input_features):\n",
    "        super(LinearRegression, self).__init__()\n",
    "        self.layer = nn.Linear(input_features, 1)\n",
    "\n",
    "    def forward(self, X):\n",
    "        return self.layer(X)\n",
    "\n",
    "input_features = X_train.shape[1]\n",
    "model = LinearRegression(input_features)"
   ]
  },
  {
   "cell_type": "code",
   "execution_count": 40,
   "metadata": {},
   "outputs": [],
   "source": [
    "# Loss function and optimizer\n",
    "loss_func = nn.MSELoss()\n",
    "optimiser = torch.optim.SGD(model.parameters(), lr=0.01)"
   ]
  },
  {
   "cell_type": "code",
   "execution_count": 41,
   "metadata": {},
   "outputs": [
    {
     "name": "stdout",
     "output_type": "stream",
     "text": [
      "Epoch [100/1000], Loss: 0.0426\n",
      "Epoch [200/1000], Loss: 0.0162\n",
      "Epoch [300/1000], Loss: 0.0075\n",
      "Epoch [400/1000], Loss: 0.0035\n",
      "Epoch [500/1000], Loss: 0.0017\n",
      "Epoch [600/1000], Loss: 0.0008\n",
      "Epoch [700/1000], Loss: 0.0004\n",
      "Epoch [800/1000], Loss: 0.0002\n",
      "Epoch [900/1000], Loss: 0.0001\n",
      "Epoch [1000/1000], Loss: 0.0001\n"
     ]
    }
   ],
   "source": [
    "# Training loop\n",
    "epochs = 1000\n",
    "for epoch in range(epochs):\n",
    "    model.train()\n",
    "    pred = model(X_train_tensor)\n",
    "    loss = loss_func(pred, Y_train_tensor)\n",
    "\n",
    "    optimiser.zero_grad()\n",
    "    loss.backward()\n",
    "    optimiser.step()\n",
    "\n",
    "    if (epoch + 1) % 100 == 0:\n",
    "        print(f'Epoch [{epoch + 1}/{epochs}], Loss: {loss.item():.4f}')"
   ]
  },
  {
   "cell_type": "code",
   "execution_count": 42,
   "metadata": {},
   "outputs": [
    {
     "name": "stdout",
     "output_type": "stream",
     "text": [
      "Model saved as nflx_model.pth\n"
     ]
    }
   ],
   "source": [
    "torch.save(model.state_dict(), 'nflx_model.pth')\n",
    "print(\"Model saved as nflx_model.pth\")"
   ]
  },
  {
   "cell_type": "code",
   "execution_count": 43,
   "metadata": {},
   "outputs": [
    {
     "name": "stdout",
     "output_type": "stream",
     "text": [
      "Test Loss (MSE): 0.0001\n",
      "Test MAE: 0.0060\n",
      "Test R-squared: 0.9992\n"
     ]
    }
   ],
   "source": [
    "# Evaluation\n",
    "model.eval()\n",
    "with torch.inference_mode():\n",
    "    test_predictions = model(X_test_tensor).squeeze()\n",
    "    test_loss = loss_func(test_predictions, Y_test_tensor.squeeze())\n",
    "\n",
    "    # Convert tensors to NumPy arrays for test metrics\n",
    "    test_predictions_np = test_predictions.numpy()\n",
    "    Y_test_np = Y_test_tensor.squeeze().numpy()\n",
    "\n",
    "    # Calculate MAE and R-squared\n",
    "    test_mae = mean_absolute_error(Y_test_np, test_predictions_np)\n",
    "    test_r2 = r2_score(Y_test_np, test_predictions_np)\n",
    "\n",
    "    print(f'Test Loss (MSE): {test_loss.item():.4f}')\n",
    "    print(f'Test MAE: {test_mae:.4f}')\n",
    "    print(f'Test R-squared: {test_r2:.4f}')\n",
    "\n"
   ]
  },
  {
   "cell_type": "code",
   "execution_count": null,
   "metadata": {},
   "outputs": [],
   "source": []
  }
 ],
 "metadata": {
  "kernelspec": {
   "display_name": "base",
   "language": "python",
   "name": "python3"
  },
  "language_info": {
   "codemirror_mode": {
    "name": "ipython",
    "version": 3
   },
   "file_extension": ".py",
   "mimetype": "text/x-python",
   "name": "python",
   "nbconvert_exporter": "python",
   "pygments_lexer": "ipython3",
   "version": "3.12.4"
  }
 },
 "nbformat": 4,
 "nbformat_minor": 2
}
