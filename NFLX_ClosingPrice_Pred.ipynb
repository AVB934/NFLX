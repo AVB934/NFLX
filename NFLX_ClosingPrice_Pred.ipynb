{
 "cells": [
  {
   "cell_type": "code",
   "execution_count": 1,
   "id": "626ee761",
   "metadata": {},
   "outputs": [],
   "source": [
    "import numpy as np\n",
    "import pandas as pd\n",
    "import torch\n",
    "from torch import nn\n",
    "from sklearn.model_selection import train_test_split\n",
    "from sklearn.preprocessing import StandardScaler\n",
    "from sklearn.metrics import mean_squared_error, mean_absolute_error, r2_score\n",
    "import matplotlib.pyplot as plt"
   ]
  },
  {
   "cell_type": "code",
   "execution_count": 2,
   "id": "45472c0b",
   "metadata": {},
   "outputs": [],
   "source": [
    "# Load and preprocess data\n",
    "data = pd.read_csv(\"NFLX_DATA2023.csv\")\n",
    "data = data[['Open', 'High', 'Low', 'Volume', 'Close']]\n",
    "#min-max normalisation\n",
    "normalized_df = (data - data.min()) / (data.max() - data.min())\n",
    "\n",
    "X = normalized_df.drop('Close', axis=1).values\n",
    "y = normalized_df['Close'].values.reshape(-1, 1)\n"
   ]
  },
  {
   "cell_type": "code",
   "execution_count": 3,
   "id": "db2d4cf2",
   "metadata": {},
   "outputs": [],
   "source": [
    "X_train, X_test, y_train, y_test = train_test_split(X, y, test_size=0.2, random_state=42)"
   ]
  },
  {
   "cell_type": "code",
   "execution_count": 4,
   "id": "c9b61021",
   "metadata": {},
   "outputs": [],
   "source": [
    "# Convert NumPy arrays to PyTorch tensors\n",
    "X_train_tensor = torch.tensor(X_train, dtype=torch.float32)\n",
    "X_test_tensor = torch.tensor(X_test, dtype=torch.float32)\n",
    "Y_train_tensor = torch.tensor(y_train, dtype=torch.float32)\n",
    "Y_test_tensor = torch.tensor(y_test, dtype=torch.float32)"
   ]
  },
  {
   "cell_type": "code",
   "execution_count": 5,
   "id": "5ac1d6db",
   "metadata": {},
   "outputs": [],
   "source": [
    "# Model definition\n",
    "class LinearRegression(nn.Module):\n",
    "    def __init__(self, input_features):\n",
    "        super(LinearRegression, self).__init__()\n",
    "        self.layer = nn.Linear(input_features, 1)\n",
    "\n",
    "    def forward(self, X):\n",
    "        return self.layer(X)\n",
    "\n",
    "input_features = X_train.shape[1]\n",
    "model = LinearRegression(input_features)"
   ]
  },
  {
   "cell_type": "code",
   "execution_count": 6,
   "id": "030982c0",
   "metadata": {},
   "outputs": [],
   "source": [
    "# Loss function and optimizer\n",
    "loss_func = nn.MSELoss()\n",
    "optimiser = torch.optim.SGD(model.parameters(), lr=0.01)"
   ]
  },
  {
   "cell_type": "code",
   "execution_count": 7,
   "id": "8b9147f9",
   "metadata": {},
   "outputs": [
    {
     "name": "stdout",
     "output_type": "stream",
     "text": [
      "Epoch [100/1000], Loss: 0.0143\n",
      "Epoch [200/1000], Loss: 0.0047\n",
      "Epoch [300/1000], Loss: 0.0026\n",
      "Epoch [400/1000], Loss: 0.0016\n",
      "Epoch [500/1000], Loss: 0.0011\n",
      "Epoch [600/1000], Loss: 0.0008\n",
      "Epoch [700/1000], Loss: 0.0006\n",
      "Epoch [800/1000], Loss: 0.0006\n",
      "Epoch [900/1000], Loss: 0.0005\n",
      "Epoch [1000/1000], Loss: 0.0005\n"
     ]
    }
   ],
   "source": [
    "# Training loop\n",
    "epochs = 1000\n",
    "for epoch in range(epochs):\n",
    "    model.train()\n",
    "    pred = model(X_train_tensor)\n",
    "    loss = loss_func(pred, Y_train_tensor)\n",
    "\n",
    "    optimiser.zero_grad()\n",
    "    loss.backward()\n",
    "    optimiser.step()\n",
    "\n",
    "    if (epoch + 1) % 100 == 0:\n",
    "        print(f'Epoch [{epoch + 1}/{epochs}], Loss: {loss.item():.4f}')"
   ]
  },
  {
   "cell_type": "code",
   "execution_count": 8,
   "id": "3c9fa6e6",
   "metadata": {},
   "outputs": [
    {
     "name": "stdout",
     "output_type": "stream",
     "text": [
      "Test Loss (MSE): 0.0005\n",
      "Test MAE: 0.0149\n",
      "Test R-squared: 0.9915\n"
     ]
    }
   ],
   "source": [
    "# Evaluation\n",
    "model.eval()\n",
    "with torch.inference_mode():\n",
    "    test_predictions = model(X_test_tensor).squeeze()\n",
    "    test_loss = loss_func(test_predictions, Y_test_tensor.squeeze())\n",
    "\n",
    "    # Convert tensors to NumPy arrays for test metrics\n",
    "    test_predictions_np = test_predictions.numpy()\n",
    "    Y_test_np = Y_test_tensor.squeeze().numpy()\n",
    "\n",
    "    # Calculate MAE and R-squared\n",
    "    test_mae = mean_absolute_error(Y_test_np, test_predictions_np)\n",
    "    test_r2 = r2_score(Y_test_np, test_predictions_np)\n",
    "\n",
    "    print(f'Test Loss (MSE): {test_loss.item():.4f}')\n",
    "    print(f'Test MAE: {test_mae:.4f}')\n",
    "    print(f'Test R-squared: {test_r2:.4f}')\n",
    "\n"
   ]
  },
  {
   "cell_type": "code",
   "execution_count": null,
   "id": "75a4db07",
   "metadata": {},
   "outputs": [],
   "source": []
  }
 ],
 "metadata": {
  "kernelspec": {
   "display_name": "Python 3 (ipykernel)",
   "language": "python",
   "name": "python3"
  },
  "language_info": {
   "codemirror_mode": {
    "name": "ipython",
    "version": 3
   },
   "file_extension": ".py",
   "mimetype": "text/x-python",
   "name": "python",
   "nbconvert_exporter": "python",
   "pygments_lexer": "ipython3",
   "version": "3.12.4"
  }
 },
 "nbformat": 4,
 "nbformat_minor": 5
}
